{
 "cells": [
  {
   "cell_type": "code",
   "execution_count": 6,
   "id": "13a171ae",
   "metadata": {},
   "outputs": [],
   "source": [
    "# Import dependencies\n",
    "import math\n",
    "import numpy as np\n",
    "import pandas as pd\n",
    "import datetime\n",
    "import scipy.stats as stats\n",
    "import matplotlib.pyplot as plt"
   ]
  },
  {
   "cell_type": "markdown",
   "id": "693f14a4",
   "metadata": {},
   "source": []
  },
  {
   "cell_type": "code",
   "execution_count": 7,
   "id": "4c55cd99",
   "metadata": {},
   "outputs": [
    {
     "name": "stdout",
     "output_type": "stream",
     "text": [
      "0.16986301369863013\n"
     ]
    }
   ],
   "source": [
    "# initial derivative parameters \n",
    "S = 201.15          #stock price\n",
    "K = 196.01           #strike price\n",
    "vol = 0.0991        #volatility (%)\n",
    "r = 0.01            #risk-free rate (%)\n",
    "N = 10              #number of time steps\n",
    "M = 1000            #number of simulations\n",
    "\n",
    "market_value = 3.86 #market price of option\n",
    "T = ((datetime.date(2023,7,17)-datetime.date(2023,5,17)).days+1)/365    #time in years\n",
    "print(T)"
   ]
  },
  {
   "cell_type": "markdown",
   "id": "796438ae",
   "metadata": {},
   "source": [
    "Brownian Motion is approximated to be normally distributed with a variance of Delta T . "
   ]
  },
  {
   "cell_type": "code",
   "execution_count": 8,
   "id": "7fa841e4",
   "metadata": {},
   "outputs": [
    {
     "name": "stdout",
     "output_type": "stream",
     "text": [
      "Call value is $6.53 with SE +/- 0.21\n"
     ]
    }
   ],
   "source": [
    "# Precompute constants\n",
    "dt = T/N\n",
    "# drift term\n",
    "nudt = (r - 0.5*vol**2)*dt\n",
    "# Volatility\n",
    "volsdt = vol*np.sqrt(dt)\n",
    "lnS = np.log(S)\n",
    "\n",
    "# Standard Error Placeholders\n",
    "sum_CT = 0\n",
    "sum_CT2 = 0\n",
    "\n",
    "# Monte Carlo Method\n",
    "# M total simulations\n",
    "for i in range(M):\n",
    "    lnSt = lnS\n",
    "    # across each time step\n",
    "    for j in range(N):\n",
    "        lnSt = lnSt + nudt + volsdt*np.random.normal()\n",
    "    \n",
    "    ST = np.exp(lnSt)\n",
    "    CT = max(0, ST - K)\n",
    "    sum_CT = sum_CT + CT\n",
    "    sum_CT2 = sum_CT2 + CT*CT\n",
    "\n",
    "# Compute Expectation and SE\n",
    "\n",
    "C0 = np.exp(-r*T)*sum_CT/M\n",
    "# Standard Deviation\n",
    "sigma = np.sqrt( (sum_CT2 - sum_CT*sum_CT/M)*np.exp(-2*r*T) / (M-1) )\n",
    "# Standard Error\n",
    "SE = sigma/np.sqrt(M)\n",
    "\n",
    "print(\"Call value is ${0} with SE +/- {1}\".format(np.round(C0,2),np.round(SE,2)))"
   ]
  },
  {
   "cell_type": "code",
   "execution_count": null,
   "id": "be7ebcee",
   "metadata": {},
   "outputs": [],
   "source": [
    "If We increase the number of simulations then Standard Error will decrease gradually but increases the computation cost."
   ]
  },
  {
   "cell_type": "markdown",
   "id": "2cd45a8a",
   "metadata": {},
   "source": [
    "Here is a Vectorized approach which is much faster."
   ]
  },
  {
   "cell_type": "code",
   "execution_count": 9,
   "id": "d17885e1",
   "metadata": {},
   "outputs": [
    {
     "name": "stdout",
     "output_type": "stream",
     "text": [
      "Call value is $6.7 with SE +/- 0.2\n"
     ]
    }
   ],
   "source": [
    "#precompute constants\n",
    "dt = T/N\n",
    "nudt = (r - 0.5*vol**2)*dt\n",
    "volsdt = vol*np.sqrt(dt)\n",
    "lnS = np.log(S)\n",
    "\n",
    "# Monte Carlo Method\n",
    "Z = np.random.normal(size=(N, M)) \n",
    "delta_lnSt = nudt + volsdt*Z \n",
    "# We only need the last column representing the last time step.\n",
    "lnSt = lnS + np.cumsum(delta_lnSt, axis=0)\n",
    "lnSt = np.concatenate( (np.full(shape=(1, M), fill_value=lnS), lnSt ) )\n",
    "\n",
    "# Compute Expectation and SE\n",
    "ST = np.exp(lnSt)\n",
    "CT = np.maximum(0, ST - K)\n",
    "# taking the final column\n",
    "C0 = np.exp(-r*T)*np.sum(CT[-1])/M\n",
    "\n",
    "sigma = np.sqrt( np.sum( (CT[-1] - C0)**2) / (M-1) )\n",
    "SE = sigma/np.sqrt(M)\n",
    "\n",
    "print(\"Call value is ${0} with SE +/- {1}\".format(np.round(C0,2),np.round(SE,2)))"
   ]
  },
  {
   "cell_type": "code",
   "execution_count": null,
   "id": "b3a0c3c6",
   "metadata": {},
   "outputs": [],
   "source": []
  }
 ],
 "metadata": {
  "kernelspec": {
   "display_name": "Python 3 (ipykernel)",
   "language": "python",
   "name": "python3"
  },
  "language_info": {
   "codemirror_mode": {
    "name": "ipython",
    "version": 3
   },
   "file_extension": ".py",
   "mimetype": "text/x-python",
   "name": "python",
   "nbconvert_exporter": "python",
   "pygments_lexer": "ipython3",
   "version": "3.9.12"
  }
 },
 "nbformat": 4,
 "nbformat_minor": 5
}
